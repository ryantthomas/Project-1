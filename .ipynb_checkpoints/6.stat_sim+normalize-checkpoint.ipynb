{
 "cells": [
  {
   "cell_type": "markdown",
   "metadata": {
    "collapsed": true
   },
   "source": [
    "<p style=\"text-align: center; font-size:150%; font-weight: bold; font-style: normal;\">\n",
    "BUSI 488 / COMP 488 Data Science in the Business World\n",
    "</p>\n",
    "<p style=\"text-align: center; font-size:120%; font-weight: normal; font-style: normal;\">\n",
    "Spring 2020 - Professors Daniel M. Ringel & Jack Snoeyink\n",
    "</p>\n",
    "\n",
    "---\n",
    "\n",
    "<p style=\"text-align: center; font-size:120%; font-weight: bold; font-style: italic;\">\n",
    "Class 06: Data Manipulation and Statistical Simulation\n",
    "</p>\n",
    "\n"
   ]
  },
  {
   "cell_type": "markdown",
   "metadata": {},
   "source": [
    "# Today's Agenda\n",
    "\n",
    "1. [Statistical Simulation for Business Planning](#Statistical-Simulation-for-Business-Planning)\n",
    "    1. [Probability Distributions](#Probability-Distributions)\n",
    "    1. [Statistical Simulation](#Statistical-Simulation)\n",
    "1. [Feature Scaling](#Feature-Scaling)\n",
    "1. [Encoding Categorical Data](#Encoding-Categorical-Data)\n",
    "\n",
    "\n",
    "### Prep-Check:\n",
    "**DataCamp Practice:**\n",
    "- Writing your own functions\n",
    "- Loops\n",
    "- Case Study: Hacker Statistics\n",
    "\n"
   ]
  },
  {
   "cell_type": "markdown",
   "metadata": {},
   "source": [
    "---\n",
    "# Statistical Simulation for Business Planning"
   ]
  },
  {
   "cell_type": "markdown",
   "metadata": {},
   "source": [
    "## The Conversion Funnel in eCommerce\n",
    "\n",
    "The ***purchase funnel***, is a consumer focused marketing model which illustrates the theoretical customer journey towards the purchase of a good or service. \n",
    "\n",
    "It maps a theoretical customer journey from the moment a brand or product attracted consumer attention to the point of action or purchase.\n",
    "\n",
    "It is often referred to as the ***AIDA-model***, an acronym which stands for:\n",
    "\n",
    "- **Awareness** : The customer is aware of the existence of a product or service  \n",
    "\n",
    "- **Interest** : Actively expressing an interest in a product group  \n",
    "\n",
    "- **Desire** : Aspiring to a particular brand or product  \n",
    "\n",
    "- **Action** : Taking the next step towards purchasing the chosen product  \n",
    "\n",
    "*Source: https://en.wikipedia.org/wiki/AIDA_(marketing)*\n",
    "\n",
    "\n",
    "![AIDA from www.guessthetest.com](http://www.datamaps.science/BUSI488/AIDA2.jpg \"AIDA Model\")\n",
    "  \n",
    "\n",
    "### In ***eCommerce***, managers often speak about the ***Conversion Funnel***\n",
    "\n",
    "The ***Conversion Funnel*** describes the journey a consumer takes through:  \n",
    "\n",
    "1. An internet advertising or search system \n",
    "2. Navigating an eCommerce website\n",
    "3. And finally converting to a sale\n",
    "\n",
    "The metaphor of a funnel is used to describe the way users are guided to the goal with fewer navigation options at each step. "
   ]
  },
  {
   "cell_type": "markdown",
   "metadata": {},
   "source": [
    "## Case Study: Dr. D's Amazin' Book Store\n",
    "\n",
    "![Dr. D's Amazin' Book Store](http://www.datamaps.science/BUSI488/drd.jpg \"Dr D's Amazin' Book Store\")\n",
    "\n",
    "\n",
    "### Let's see how we might model the Conversion Funnel to determine how much to spend for advertising on Google.\n",
    "\n",
    "- Dr. D has an assortment of really nice books in his online store.\n",
    "- To boost sales, his idea is to attract more consumers to his website. \n",
    "    - An easy way is for Dr. D to pay for search engine advertising using the Google ad words auction mechanism.\n",
    "    - High bids in the auction will rank his ad higher, which gets him more clicks, but it will cost more.\n",
    "    - The problem is, that Dr. D has no idea whether paying more will leave him with enough revenue in the end.\n",
    "\n",
    "\n",
    "\n",
    "#### How can we help Dr. D figure out how much to spend for his advertising on Google?\n",
    "\n",
    "It's always a good idea to start by charting out the conversion funnel. \n",
    "\n",
    "![Conversion Funnel](http://www.datamaps.science/BUSI488/funnel.jpg \"Conversion Funnel in eCommerce\")\n",
    "\n",
    "We can think of this process as a ***series of probabilities*** that a consumer progresses to the next step (or stage).  Let's attach some numbers:\n",
    "\n",
    "- Under his current low bid strategy, he believes\n",
    "    - 2% of the ads he shows are clicked on -- his current click-through rate (CTR) is 2% \n",
    "    - 15% of the consumers he attracts put a book into their baskets.\n",
    "    - 80% of the consumers that put a book in their basket end-up abandoning the basket.\n",
    "- The alternative is a high-cost strategy where he bids more (expected cost increase is 5000 dollars)\n",
    "    - He believes that he would attract up to 25% more consumers.\n",
    "    - He also believes that these consumers are up to 25% more likely to put a book into their baskets.\n",
    "    - He expects the action rate to be the same; 80% abandon, 20% purchase.\n",
    "- Revenue observations:\n",
    "    - Most of Dr. D's books are priced at around 99 dollars.  \n",
    "      There are a few cheaper ones and a long right tail of more expensive ones (but fewer and fewer as the price increases).\n",
    "    - Customers usually buy a single book in a visit.\n",
    "\n",
    "To simulate (or model) the process we need to choose the appropriate ***distributions and random variables***  for each step. \n"
   ]
  },
  {
   "cell_type": "markdown",
   "metadata": {},
   "source": [
    "---\n",
    "# Probability Distributions\n",
    "\n",
    "Probability and Statistics are foundations, not only of Data Science, but also of the recent advances in machine learning and artificial intelligence."
   ]
  },
  {
   "cell_type": "markdown",
   "metadata": {},
   "source": [
    "## Random Variables (a quick review)\n",
    "\n",
    "- A **random variable** is a variable whose possible values are numerical outcomes of some repeatable experiment (a random phenomenon). \n",
    "- Random variables may be **discrete** or **continuous**.\n",
    "- A **[probability distribution](https://en.wikipedia.org/wiki/Probability_distribution)** for a random variable is a function (the **probability density function**) that captures how frequently we expect each outcome.\n",
    "    - The simplest is the **uniform distribution**, in which each outcome has equal chances.\n",
    "    - The **expectation** of a random variable is the sum of the outcomes weighted by probabilities. \n",
    "- [Khan academy video series](https://www.khanacademy.org/math/statistics-probability/random-variables-stats-library/random-variables-discrete/v/random-variables) on random variables, probability distributions, and expectation.\n",
    "\n",
    "### Discrete Random Variables\n",
    "- A **discrete random variable** may take on only a countable number of distinct values. \n",
    "- For example, random variable X may be the number of spots showing when you roll a fair, six-sided die. (dice is the plural.) \n",
    "    - X can take on a value from [1,2,3,4,5,6] and therefore is a discrete random variable.\n",
    "\n",
    "Examples of discrete probability distributions are the [Bernoulli distribution](https://en.wikipedia.org/wiki/Bernoulli_distribution) (flip a biased coin), [Binomial distribution](https://en.wikipedia.org/wiki/Binomial_distribution) (number of heads in $n$ coin flips), and [Poisson distribution](https://en.wikipedia.org/wiki/Poisson_distribution) (relative frequency of rare events)\n",
    "\n",
    "### Continuous Random Variables\n",
    "- A **continuous random variable** is one which takes an infinite number of possible values. \n",
    "- For example, you can define a random variable X to be the market shares of firms in a market. \n",
    "- Since the continuous random variable is defined over an interval of values, it is represented by the area under a curve (or the integral).\n",
    "\n",
    "Examples of continuous probability distributions are the [Normal distribution](https://en.wikipedia.org/wiki/Normal_distribution) (the limit of any independent random process), [Exponential distribution](https://en.wikipedia.org/wiki/Exponential_distribution) (the time between events in a Poisson process), and [Beta distribution](https://en.wikipedia.org/wiki/Beta_distribution) (for events in a fixed interval).  \n",
    "For continous random variables, the **[cumulative distribution function](https://en.wikipedia.org/wiki/Cumulative_distribution_function)**, which captures the chances of being at most a given outcome, so is an increasing function from 0 to 1, is often easier to work with than the probability density function.\n",
    "\n"
   ]
  },
  {
   "cell_type": "markdown",
   "metadata": {},
   "source": [
    "## Common Distributions\n",
    "\n",
    "Let's take a look at some common distributions. To do so, we need to import python packages for plots and their style."
   ]
  },
  {
   "cell_type": "code",
   "execution_count": 1,
   "metadata": {},
   "outputs": [],
   "source": [
    "# for inline plots in notebooks; Watson studio does these already, but you may need them on other platforms\n",
    "#%matplotlib inline\n",
    "# for latex equations\n",
    "#from IPython.display import Math, Latex\n",
    "# for displaying images\n",
    "#from IPython.core.display import Image\n",
    "\n",
    "# import matplotlib\n",
    "import matplotlib.pyplot as plt\n",
    "# import seaborn\n",
    "import seaborn as sns\n",
    "# settings for seaborn plotting style\n",
    "sns.set(color_codes=True)\n",
    "# settings for seaborn plot sizes\n",
    "sns.set(rc={'figure.figsize':(5,5)})"
   ]
  },
  {
   "cell_type": "markdown",
   "metadata": {},
   "source": [
    "### Uniform Distribution\n",
    "\n",
    "One of the simplest and most useful distributions is the uniform distribution.  \n",
    "The probability distribution function of the continuous uniform distribution is:\n",
    "\n",
    "![Uniform Distribution](https://res.cloudinary.com/dyd911kmh/image/upload/f_auto,q_auto:best/v1539784816/output_5_0_f453qp.png \"Source: DataCamp\")\n",
    "\n",
    "The standard uniform distribution, where $a = 0$ and $b = 1$, is common in statistics, especially for random number generation. Its expected value is $\\frac{1}{2}\\\\$ \n",
    "and variance is $\\frac{1}{12}\\$\n",
    "\n",
    "**Example:** You order a product from a new manufacturer, which may be delivered in 10 days, and certainly  before day 30. Since you have no experience with this manufacturer, you model this as a uniform random choice over the 20-day window. What is the probability that the delivery comes in the last five days?  \n",
    "*Wanke, Peter (2008). \"The uniform distribution as a first practical approach to new product inventory management\". Intl J Production Economics. 114 (2): 811–819. doi:10.1016/j.ijpe.2008.04.004*\n",
    "\n",
    "**Let's take a look at it at it by running the cell below:**\n"
   ]
  },
  {
   "cell_type": "code",
   "execution_count": 2,
   "metadata": {
    "scrolled": false
   },
   "outputs": [
    {
     "name": "stdout",
     "output_type": "stream",
     "text": [
      "In this simulation, 24.70% of deliveries were in the last 5 days of the window.\n"
     ]
    },
    {
     "data": {
      "image/png": "[encoded data removed]",
      "text/plain": [
       "<Figure size 432x288 with 1 Axes>"
      ]
     },
     "metadata": {
      "needs_background": "light"
     },
     "output_type": "display_data"
    }
   ],
   "source": [
    "# import uniform distribution\n",
    "from scipy.stats import uniform\n",
    "\n",
    "# generate random numbers from uniform distribution\n",
    "n = 10000\n",
    "start = 10\n",
    "width = 20\n",
    "data_uniform = uniform.rvs(size=n, loc = start, scale=width)\n",
    "\n",
    "# The uniform function generates a uniform continuous variable between the specified interval via its loc and scale parameters. \n",
    "# This distribution is constant between loc and loc + scale. The size parameters describe the number of random variates. \n",
    "\n",
    "# now plot it\n",
    "ax = sns.distplot(data_uniform,\n",
    "                  bins=10,\n",
    "                  kde=True,\n",
    "                  color='skyblue',\n",
    "                  hist_kws={\"linewidth\": 10,'alpha':1})\n",
    "ax.set(xlabel='Uniform Distribution ', ylabel='Frequency')\n",
    "print(f'In this simulation, {sum(data_uniform >= 25)/n*100:.2f}% of deliveries were in the last 5 days of the window.')\n",
    "# Seaborn’s distplot takes in multiple parameters to customize the plot. You first create a plot object ax. \n",
    "# Here, you can specify the number of bins in the histogram, specify the color of the histogram and specify \n",
    "# density plot option with kde and linewidth option with hist_kws. \n",
    "# You can also set labels for x and y axis using the xlabel and ylabel parameters."
   ]
  },
  {
   "cell_type": "markdown",
   "metadata": {},
   "source": [
    "### Normal Distribution\n",
    "\n",
    "The **Normal Distribution**, also known as **Gaussian distribution**, is ubiquitous in Data Science. \n",
    "\n",
    "- You will encounter it at many places especially in topics of statistical inference. \n",
    "- Many Data Science algorithms assume that the data are normally distributed.\n",
    "- A normal distribution has a bell-shaped density curve described by its mean μ and standard deviation σ. \n",
    "- The density curve is symmetrical, centered about its mean, with its spread determined by its standard deviation showing that data near the mean are more frequent in occurrence than data far from the mean. \n",
    "\n",
    "\n",
    "![Normal Distribution](https://res.cloudinary.com/dyd911kmh/image/upload/f_auto,q_auto:best/v1539784816/output_15_0_jv4dw1.png \"Source: DataCamp\")\n",
    "\n",
    "- Portfolio theory commonly assumeas that the returns of a diversified asset portfolio follow a normal distribution\n",
    "- In operations management, process variations often are normally distributed. \n",
    "- In human resource management, employee performance sometimes is considered normally distributed\n",
    "\n",
    "**Let's take a look at it at it by running the cell below:**"
   ]
  },
  {
   "cell_type": "code",
   "execution_count": 3,
   "metadata": {},
   "outputs": [
    {
     "data": {
      "text/plain": [
       "[Text(0, 0.5, 'Frequency'), Text(0.5, 0, 'Normal Distribution')]"
      ]
     },
     "execution_count": 3,
     "metadata": {},
     "output_type": "execute_result"
    },
    {
     "data": {
      "image/png": "[encoded data removed]",
      "text/plain": [
       "<Figure size 432x288 with 1 Axes>"
      ]
     },
     "metadata": {
      "needs_background": "light"
     },
     "output_type": "display_data"
    }
   ],
   "source": [
    "from scipy.stats import norm\n",
    "# generate random numbers from N(0,1)\n",
    "data_normal = norm.rvs(size=50000,loc=0,scale=1)\n",
    "\n",
    "# The loc parameter sets the mean of the distribution. \n",
    "# scale sets standard deviation \n",
    "# size sets the number of random variates.\n",
    "\n",
    "ax = sns.distplot(data_normal,\n",
    "                  bins=15,\n",
    "                  kde=True,\n",
    "                  color='skyblue',\n",
    "                  hist_kws={\"linewidth\": 5,'alpha':1})\n",
    "ax.set(xlabel='Normal Distribution', ylabel='Frequency')\n",
    "\n",
    "# Kernel Density Estimation (KDE) is a way to estimate the probability density function of a continuous random variable. It is used for non-parametric analysis.\n",
    "# Setting the hist flag to False in distplot will yield the kernel density estimation plot.\n"
   ]
  },
  {
   "cell_type": "markdown",
   "metadata": {},
   "source": [
    "### Gamma Distribution\n",
    "\n",
    "The **gamma distribution** is a two-parameter family of continuous probability distributions. \n",
    "\n",
    "- It is rarely used in its raw form **but** other popularly  distributions like exponential, chi-squared, erlang distributions are special cases of the gamma distribution. \n",
    "- The gamma distribution can be parameterized in terms of a shape parameter α=k and an inverse scale parameter β=1/θ, called a rate parameter.\n",
    "- The symbol Γ(n) is the gamma function and is defined as (n−1)! :\n",
    "\n",
    "![Gamma Distribution](https://res.cloudinary.com/dyd911kmh/image/upload/f_auto,q_auto:best/v1539784816/output_23_0_vbwfi3.png \"Source: DataCamp\")\n",
    "\n",
    "An **example** where a gamma distribution is commonly used is insurance claims and loan defaults where the variables are always positive and the results are skewed (unbalanced).\n",
    "\n",
    "**Let's take a look at it at it by running the cell below:**"
   ]
  },
  {
   "cell_type": "code",
   "execution_count": 4,
   "metadata": {},
   "outputs": [
    {
     "data": {
      "text/plain": [
       "[Text(0, 0.5, 'Frequency'), Text(0.5, 0, 'Gamma Distribution')]"
      ]
     },
     "execution_count": 4,
     "metadata": {},
     "output_type": "execute_result"
    },
    {
     "data": {
      "image/png": "[encoded data removed]",
      "text/plain": [
       "<Figure size 432x288 with 1 Axes>"
      ]
     },
     "metadata": {
      "needs_background": "light"
     },
     "output_type": "display_data"
    }
   ],
   "source": [
    "from scipy.stats import gamma\n",
    "data_gamma = gamma.rvs(a=2, size=5000)\n",
    "\n",
    "# When a is an integer, gamma reduces to the Erlang distribution\n",
    "# When a=1, gamma reduces to the exponential distribution. \n",
    "# Size sets the number of random variates in the distribution\n",
    "# To shift the distribution, add a loc parameter.\n",
    "# To scale, add a scale parameter.\n",
    "\n",
    "ax = sns.distplot(data_gamma,\n",
    "                  kde=True,\n",
    "                  bins=20,\n",
    "                  color='skyblue',\n",
    "                  hist_kws={\"linewidth\": 5,'alpha':1})\n",
    "ax.set(xlabel='Gamma Distribution', ylabel='Frequency')\n",
    "\n"
   ]
  },
  {
   "cell_type": "markdown",
   "metadata": {},
   "source": [
    "### Exponential Distribution\n",
    "\n",
    "The **exponential distribution** describes the time between events in a Poisson point process, i.e., a process in which events occur continuously and independently at a constant average rate. It has a parameter λ called rate parameter, and its equation is described as :\n",
    "\n",
    "![Exponential Distribution](https://res.cloudinary.com/dyd911kmh/image/upload/f_auto,q_auto:best/v1539784817/output_31_0_uhtlf5.png \"Source: DataCamp\")\n",
    "\n",
    "***Remember:*** A Poisson Process is a model for a series of discrete events where the average time between events is known, but the exact timing of events is random.   \n",
    "The arrival of an event is independent of the event before (waiting time between events is memoryless).  \n",
    "\n",
    "**For example**, suppose we own a website which our content delivery network (CDN) tells us goes down on average once per 60 days,  \n",
    "but one failure doesn’t affect the probability of the next. All we know is the average time between failures. \n",
    "\n",
    "**Let's take a look at it at a decreasing exponential distribution by running the cell below:**"
   ]
  },
  {
   "cell_type": "code",
   "execution_count": null,
   "metadata": {},
   "outputs": [
    {
     "data": {
      "text/plain": [
       "[Text(0, 0.5, 'Frequency'), Text(0.5, 0, 'Exponential Distribution')]"
      ]
     },
     "execution_count": 5,
     "metadata": {},
     "output_type": "execute_result"
    },
    {
     "data": {
      "image/png": "[encoded data removed]",
      "text/plain": [
       "<Figure size 432x288 with 1 Axes>"
      ]
     },
     "metadata": {
      "needs_background": "light"
     },
     "output_type": "display_data"
    }
   ],
   "source": [
    "from scipy.stats import expon\n",
    "data_expon = expon.rvs(scale=1,loc=0,size=5000)\n",
    "\n",
    "# The scale parameter is the reciprocal of lambda from the equation:  scale = 1/lambda\n",
    "# The loc paramter can shift the distribution.\n",
    "# Size sets the number of random variates in the distribution. \n",
    "\n",
    "ax = sns.distplot(data_expon,\n",
    "                  kde=True,\n",
    "                  bins=20,\n",
    "                  color='skyblue',\n",
    "                  hist_kws={\"linewidth\": 5,'alpha':1})\n",
    "ax.set(xlabel='Exponential Distribution', ylabel='Frequency')\n",
    "\n"
   ]
  },
  {
   "cell_type": "markdown",
   "metadata": {},
   "source": [
    "### Poisson Distribution\n",
    "\n",
    "The **poisson distribution** is described in terms of the rate (μ) at which the events happen. \n",
    "- An event can occur 0, 1, 2, … times in an interval. \n",
    "- The average number of events in an interval is designated λ (lambda). \n",
    "- Lambda is the event rate, also called the rate parameter. \n",
    "\n",
    "The probability of observing k events in an interval is given by the equation:\n",
    "\n",
    "![Poisson Distribution](https://res.cloudinary.com/dyd911kmh/image/upload/f_auto,q_auto:best/v1539784818/output_39_0_knqrjh.png \"Source: DataCamp\")\n",
    "\n",
    "Poisson random variables are typically used to model the number of times an event happened in a time interval. \n",
    "For example, the number of users visited on a website in an interval can be thought of a Poisson process. \n",
    "\n",
    "**A typical poisson distribution** might look like this:\n",
    "\n",
    "![Typical Poisson Distribution](https://res.cloudinary.com/dyd911kmh/image/upload/f_auto,q_auto:best/v1539784818/output_41_0_p5kbdc.png \"Source: DataCamp\")\n",
    "\n",
    "\n",
    "**Notes:** The expected value of an unshifted Poisson distribution $\\mu=\\lambda$.  \n",
    "The normal distribution is a limiting case of Poisson distribution as the parameter λ→∞.   \n",
    "Also, if the times between random events follow an exponential distribution with rate λ, \n",
    "then the total number of events in a time period of length t follows the Poisson distribution with parameter λt. \n",
    "\n",
    "**Let's take a look at it at a Poisson distribution by running the cell below:**"
   ]
  },
  {
   "cell_type": "code",
   "execution_count": null,
   "metadata": {
    "scrolled": false
   },
   "outputs": [
    {
     "data": {
      "text/plain": [
       "[Text(0, 0.5, 'Frequency'), Text(0.5, 0, 'Poisson Distribution')]"
      ]
     },
     "execution_count": 6,
     "metadata": {},
     "output_type": "execute_result"
    },
    {
     "data": {
      "image/png": "[encoded data removed]",
      "text/plain": [
       "<Figure size 432x288 with 1 Axes>"
      ]
     },
     "metadata": {
      "needs_background": "light"
     },
     "output_type": "display_data"
    }
   ],
   "source": [
    "from scipy.stats import poisson\n",
    "data_poisson = poisson.rvs(mu=2, size=10000)\n",
    "\n",
    "# Takes μ as a shape parameter, which is the λ in the equation. \n",
    "# Size sets the number of random variates in the distribution. \n",
    "# The loc parameter can shift the distribution. \n",
    "\n",
    "ax = sns.distplot(data_poisson,\n",
    "                  bins=10,\n",
    "                  kde=False,\n",
    "                  color='skyblue',\n",
    "                  hist_kws={\"linewidth\": 5,'alpha':1})\n",
    "ax.set(xlabel='Poisson Distribution', ylabel='Frequency')"
   ]
  },
  {
   "cell_type": "markdown",
   "metadata": {},
   "source": [
    "###  Bernoulli Distribution\n",
    "\n",
    "A **Bernoulli distribution** has only two possible outcomes, namely 1 (success) and 0 (failure),  \n",
    "and a single (bernoulli) trial, for example, a coin toss or how many boys and how many girls are born each day. \n",
    "\n",
    "So the random variable $X$ which has a Bernoulli distribution can take value 1 with the probability of success, $p$,  \n",
    "and the value 0 with the probability of failure, $q$ or $1−p$. \n",
    "\n",
    "The probabilities of success and failure need not be equally likely.  \n",
    "The Bernoulli distribution is a special case of the binomial distribution where a single trial is conducted $(n = 1)$. \n",
    "\n",
    "Its probability mass function is given by:\n",
    "\n",
    "\n",
    "![Bernoulli Distribution](https://res.cloudinary.com/dyd911kmh/image/upload/f_auto,q_auto:best/v1539784819/output_56_0_w8z8gb.png \"Source: DataCamp\")\n",
    "\n",
    "\n",
    "**Example:** 1000 customers are chosen at random from a firm's customer database, and asked:  \n",
    "\n",
    "*“Do you plan to purchase a new car this summer? Yes, or No”.*  \n",
    "\n",
    "Their answers are recorded.  \n",
    "\n",
    "- Assuming customers really are randomly selected, this is an independent repetition of the same trial 1000 times.  \n",
    "- If we declare the intention to purchase a car “success”, then $p =$ the proportion of likely customers in the firm's database who plan to purchase a car.  \n",
    "- If $X =$ the number of successes (i.e., customers intending to buy a car), then a observation of $X$ can be used to estimate (unknown) $p$.  \n",
    "\n",
    "For example, if $X = 219$ in a particular running of this poll, we would concluded that $p$ is likely around 22%.\n",
    "\n",
    "**Let's take a look at it at a Bernoulli distribution by running the cell below:**"
   ]
  },
  {
   "cell_type": "code",
   "execution_count": null,
   "metadata": {},
   "outputs": [
    {
     "data": {
      "text/plain": [
       "[Text(0, 0.5, 'Frequency'), Text(0.5, 0, 'Bernoulli Distribution')]"
      ]
     },
     "execution_count": 7,
     "metadata": {},
     "output_type": "execute_result"
    },
    {
     "data": {
      "image/png": "[encoded data removed]",
      "text/plain": [
       "<Figure size 432x288 with 1 Axes>"
      ]
     },
     "metadata": {
      "needs_background": "light"
     },
     "output_type": "display_data"
    }
   ],
   "source": [
    "from scipy.stats import bernoulli\n",
    "data_bern = bernoulli.rvs(size=10000,p=0.6)\n",
    "\n",
    "# Takes p (probability of success) as a shape parameter. \n",
    "# To shift distribution use the loc parameter. \n",
    "# Size decides the number of times to repeat the trials. \n",
    "\n",
    "ax= sns.distplot(data_bern,\n",
    "                 kde=False,\n",
    "                 color=\"skyblue\",\n",
    "                 hist_kws={\"linewidth\": 5,'alpha':1})\n",
    "ax.set(xlabel='Bernoulli Distribution', ylabel='Frequency')"
   ]
  },
  {
   "cell_type": "markdown",
   "metadata": {},
   "source": [
    "### Binomial Distribution\n",
    "\n",
    "Repeating the same Bernoulli experiment $n$ times and counting the successes gives a **Binomial Distribution**.\n",
    "\n",
    "In the Binomial distribution, each trial has probability $p$ of success and $1-p$ of failure, independent of the others. Its probability distribution function is given by :\n",
    "\n",
    "![Binomial Distribution](https://res.cloudinary.com/dyd911kmh/image/upload/f_auto,q_auto:best/v1539784818/output_47_0_ap6wyo.png \"Source: DataCamp\")\n",
    "\n",
    "*which uses the choose function or binomial coefficientr:*\n",
    "\n",
    "![Binomial Distribution where](https://res.cloudinary.com/dyd911kmh/image/upload/f_auto,q_auto:best/v1539784818/output_49_0_vajze8.png \"Source: DataCamp\")\n",
    "\n",
    "**Example:** Let’s say that 66% of all business startups in report that they generate a profit in their first year. If a sample of 10 new startups is selected, find the probability that exactly 7 will generate a profit in their first year.\n",
    "\n",
    "- n = 10  \n",
    "- p=0.66\n",
    "- x=7\n",
    "\n",
    "--> The probability that exactly 7 start-ups will generate a profit in the first year is 25.7%\n",
    "\n",
    "**Let's take a look at it at a binomial distribution by running the cell below:**"
   ]
  },
  {
   "cell_type": "code",
   "execution_count": null,
   "metadata": {},
   "outputs": [
    {
     "data": {
      "text/plain": [
       "[Text(0, 0.5, 'Frequency'), Text(0.5, 0, 'Binomial Distribution')]"
      ]
     },
     "execution_count": 8,
     "metadata": {},
     "output_type": "execute_result"
    },
    {
     "data": {
      "image/png": "[encoded data removed]",
      "text/plain": [
       "<Figure size 432x288 with 1 Axes>"
      ]
     },
     "metadata": {
      "needs_background": "light"
     },
     "output_type": "display_data"
    }
   ],
   "source": [
    "from scipy.stats import binom\n",
    "data_binom = binom.rvs(n=10,p=0.66,size=10000)\n",
    "\n",
    "# Takes n (number of trials) and p (probability of success) as shape parameters. \n",
    "# To shift distribution use the loc parameter. \n",
    "# Size decides the number of times to repeat the trials.\n",
    "\n",
    "ax = sns.distplot(data_binom,\n",
    "                  bins = 10,\n",
    "                  kde=False,\n",
    "                  color='skyblue',\n",
    "                  hist_kws={\"linewidth\": 5,'alpha':1})\n",
    "ax.set(xlabel='Binomial Distribution', ylabel='Frequency')"
   ]
  },
  {
   "cell_type": "markdown",
   "metadata": {},
   "source": [
    "### Relationship between Poisson and Binomial Distributions\n",
    "\n",
    "The **Poisson Distribution** is a *special case* of the **Binomial Distribution** as n goes to infinity while the expected number of successes remains fixed.  \n",
    "A **Binomial Distribution** is used to model the probability of the number of successes we can expect from n trials with a probability p.  \n",
    "The Poisson is used as an approximation of the Binomial if n is large and p is small.\n",
    "\n",
    "- As with many ideas in statistics, “large” and “small” are up to interpretation. \n",
    "- A rule of thumb is the Poisson distribution is a decent approximation of the Binomial if n > 20 and np < 10. \n",
    "- Therefore, a coin flip, even for 100 trials, should be modeled as a Binomial because np =50. \n",
    "- A call center which gets 1 call every 30 minutes over 120 minutes could be modeled as a Poisson distribution as np = 4. \n",
    "\n",
    "One important distinction is a Binomial occurs for a fixed set of trials (the domain is discrete)  \n",
    "while a Poisson occurs over a theoretically infinite number of trials (continuous domain).  \n",
    "This is only an approximation;  \n",
    "\n",
    "***REMEMBER:*** All models are wrong, but some are useful!\n"
   ]
  },
  {
   "cell_type": "markdown",
   "metadata": {},
   "source": [
    "---\n",
    "# Statistical Simulation\n"
   ]
  },
  {
   "cell_type": "markdown",
   "metadata": {},
   "source": [
    "## Back to the Amazin' Book Store & the conversion funnel\n",
    "\n",
    "\n",
    "![Conversion Funnel](http://www.datamaps.science/BUSI488/funnel.jpg \"Conversion Funnel in eCommerce\")\n",
    "\n",
    "Now, we can simulate (or model) the process using what we have learned about ***distributions and random variables***.\n",
    "\n",
    "Let's start with the first part: Getting from Google to Dr. D's online store and putting a book into the shopping basket.\n"
   ]
  },
  {
   "cell_type": "markdown",
   "metadata": {},
   "source": [
    "## Model Flow: From Ad Impression to Shopping Basket\n",
    "\n",
    "To build our simulation, we need to create a data generating process for our conversion funnel.  \n",
    "\n",
    "In this first step, we will model the customer journey:\n",
    "- From seeing the ad on Google.\n",
    "- To putting a book in the shopping basket at Dr. D's Amazin' Book Store.\n",
    "\n",
    "We need to make a few **assumptions**, based on what was observed with the current low bid strategy and what is assumed for the high bid strategy.\n",
    "\n",
    "**Ad Impressions**  \n",
    "On any given day, Dr. D's ads get many impressions on Google.  \n",
    "We can model impressions as ***Poisson random variables***.\n",
    "We assume that $λ$ is normally distributed with a mean of 100k daily searches with keywords relevant to Dr. D's online shop, and with a standard deviation of 2000.  Recall that in a Poisson distribution, $λ$ (lambda) is the average number of events (here people searching for keywords relevant to Dr. D's website) in an interval (here one day). \n",
    "\n",
    "**Clicks on Ad**  \n",
    "Next, a consumer must decide whether to click or not on the ad.  \n",
    "We can model clicks as ***Binomial random variables***.\n",
    "The probability $p$ is our clickthrough rate (CTR) which is 2% for the low-cost strategy.  \n",
    "\n",
    "**Shopping baskets**  \n",
    "Next, a consumer must decide whether to put the book into their shopping basket or not.  \n",
    "We can model adding a book to a shopping basket as a ***Binomial random variable***.  \n",
    "The probability $p$ is our basket rate (BAR) which is 2% for the low-cost strategy.  \n",
    "\n",
    "**High-Cost Strategy**  \n",
    "As stated, the high-cost option would increase the CTR and BAR by up to 25%. \n",
    "We don't know exactly how much these improvements will be.\n",
    "Knowing nothing, we model the improvement as a **Uniform random variable*** in our simulation.\n",
    "\n",
    "#### Let's run the code and see how many consumers we can expect to put a book into the basket "
   ]
  },
  {
   "cell_type": "code",
   "execution_count": null,
   "metadata": {},
   "outputs": [],
   "source": [
    "import numpy as np\n",
    "\n",
    "# utility function takes val and a fraction to increases and chooses uniformly from [val, val*(1+increase)].  Negative values are handled correctly. \n",
    "def uniform_in_interval(val, increase):\n",
    "    interval = sorted([val, val*(1+increase)])\n",
    "    return np.random.uniform(low=interval[0], high=interval[1])\n",
    "\n",
    "# Initialize click-through rate (ctr) and abandoned basket rate (abr) dictionaries\n",
    "low = {'name':'low', '#search': 100000, 'searchstd': 2000, 'ctr':0.02, 'bar': 0.30, 'abr': 0.80, 'price': 99.00 }\n",
    "high = {**low, 'name':'high', \n",
    "        'ctr': uniform_in_interval(low['ctr'], 0.25), \n",
    "        'bar': uniform_in_interval(low['bar'], 0.25), \n",
    "  #      'abr': uniform_in_interval(low['abr'], 0) # unchanged for now\n",
    "       }"
   ]
  },
  {
   "cell_type": "code",
   "execution_count": null,
   "metadata": {},
   "outputs": [
    {
     "name": "stdout",
     "output_type": "stream",
     "text": [
      "Simulated Books into Baskets = [689]\n"
     ]
    }
   ],
   "source": [
    "# Create a function that we can call to calcualte the number of baskets by \"chaining\" draws from the relevant distributions in a series\n",
    "def get_baskets(model, sims):\n",
    "    # First, generate lambda for the poisson distribution based on the assumption of 100k searches with SD=2000 per day\n",
    "    lam = np.random.normal(loc=model['#search'], scale=model['searchstd'], size=sims)\n",
    "    # Second, simulate ad impressions(poisson)\n",
    "    impressions = np.random.poisson(lam)\n",
    "    # Third, simulate clicks based on ad impressions (which enter as n into the binomial distribution)\n",
    "    clicks = np.random.binomial(p=model['ctr'], n=impressions)\n",
    "    # Finally, simulate baskets based on clicks (which enter as n into the binomial distribution) \n",
    "    baskets = np.random.binomial(p=model['bar'], n=clicks)\n",
    "    return baskets\n",
    "\n",
    "print(\"Simulated Books into Baskets = {}\".format(get_baskets(high, 1)))"
   ]
  },
  {
   "cell_type": "markdown",
   "metadata": {},
   "source": [
    "##### Model Flow: From Baskets to Revenue\n",
    "\n",
    "To build our full simulation, we also need to create a data generating process for revenue.  \n",
    "\n",
    "In this second step, we will model the customer journey:\n",
    "- From having a book in the shopping basket.  \n",
    "- To conversion into a sale.  \n",
    "- That generates revenue depending on the price of the purchased book.  \n",
    "\n",
    "We need to make a few **assumptions** again.  \n",
    "\n",
    "**Conversion**  \n",
    "- Now consumers must decide wheter to check-out and make a purchase or not.  \n",
    "- We can model conversions as ***Binomial random variables***.  \n",
    "- The propability $p$ is our conversion rate (CR) which is 25% (1 - 75%) for the low-cost strategy. \n",
    "\n",
    "**Revenue**  \n",
    "- For simplicity, we assume only single book purchases for each customer.  \n",
    "- The purchase value (revenue) could be modeled by pretty much any continuous random variable.  \n",
    "- We will use an ***Exponential*** random variable.  \n",
    "- The mean purchase value ($1/λ$) is 99 dollars.  \n",
    "- By chosing an ***Exponential*** distribution, we are essenitally capturing  \n",
    "that most books in Dr. D's assortment cost pretty much around 99 dollars  \n",
    "with a few cheaper ones but a long (right) tail towards much more expensive books.  \n",
    "- The total revenue is then simply the sum of all purchases.  \n",
    "\n",
    "#### Let's run the code and see how much revenue Dr. D will make!"
   ]
  },
  {
   "cell_type": "code",
   "execution_count": null,
   "metadata": {},
   "outputs": [
    {
     "name": "stdout",
     "output_type": "stream",
     "text": [
      "Simulated Revenue = $10,963.05\n"
     ]
    }
   ],
   "source": [
    "def get_revenue(model, sims):\n",
    "    rev = []\n",
    "    # We could set a seed here to reproduce results. \n",
    "    # If we choose to do so, is it enought to set it just here?\n",
    "    # np.random.seed(42) \n",
    "    for s in get_baskets(model, sims):\n",
    "        # Model purchases as binomial, purchase_values as exponential\n",
    "        purchases = np.random.binomial(s, p=1-model['abr'])\n",
    "        purchase_values = np.random.exponential(scale=model['price'], size=np.sum(purchases))\n",
    "        \n",
    "        # Append to revenue the sum of all purchase values.\n",
    "        rev.append(np.sum(purchase_values))\n",
    "    return rev\n",
    "\n",
    "print(\"Simulated Revenue = ${:,.2f}\".format(get_revenue(low, 1)[0]))"
   ]
  },
  {
   "cell_type": "markdown",
   "metadata": {},
   "source": [
    "## Probability of Losing Money with the strategy High \n",
    "\n",
    "Dr D. is a firm believer in Data Science.   \n",
    "***He now wants to know what the chance is that spending an extra 5000 dollars will cost more than it helps!?!***\n",
    "\n",
    "This is where our super cool data generating process model (DGP) comes in handy.\n",
    "\n",
    "- Dr. D outlined 2 strategies: Low and High Advertising Spendings. \n",
    "- The High strategy costs 5000 dollars more and improves both the click-through rate and the basket rate.  \n",
    "\n",
    "***In other words, the probability that the revenue from the high-cost strategy minus the revenue from the low-cost strategy is lower than the cost.***\n"
   ]
  },
  {
   "cell_type": "code",
   "execution_count": null,
   "metadata": {},
   "outputs": [
    {
     "name": "stdout",
     "output_type": "stream",
     "text": [
      "Probability of losing money because of High advertising strategy = 0.8791\n"
     ]
    }
   ],
   "source": [
    "# Initialize cost_diff\n",
    "sims, cost_diff = 10000, 5000\n",
    "\n",
    "# Get revenue when the cost is 'low' and when the cost is 'high'\n",
    "rev_low = get_revenue(low, sims)\n",
    "rev_high = get_revenue(high, sims)\n",
    "\n",
    "# calculate fraction of times rev_high - rev_low is less than cost_diff\n",
    "frac = np.sum((np.array(rev_high)-np.array(rev_low))<cost_diff)/sims\n",
    "print(\"Probability of losing money because of High advertising strategy = {}\".format(frac))"
   ]
  },
  {
   "cell_type": "markdown",
   "metadata": {},
   "source": [
    "## Key Take-Away\n",
    "**Once we have simulated revenue outcomes, we can ask a rich set of questions that might not have been accessible using traditional analytical methods.**\n",
    "\n",
    "Now we can also test many different assumptions and scenarios with our DGP and model:   \n",
    "- We can simply call the functions we defined before to find our answer.  \n",
    "- We can even easily change the extra cost for the High option from 5000 dollars to anything (or construct a break-even analysis with confidence intervals if we wanted).  \n",
    "- We can also change the number of times we want to run the simulation to get a larger sample of possible outcomes.  \n",
    "- And we can of course go back and change our assumptions regarding the rates (CTR, ABR, CR), the average book price, the number of searches for keywords that pertain to Dr. D's online shop, or even the distributions we used.\n",
    "- etc. etc. etc.\n",
    "\n",
    "This simple yet powerful framework forms the basis of Bayesian methods for obtaining probabilities."
   ]
  },
  {
   "cell_type": "markdown",
   "metadata": {},
   "source": [
    "---\n",
    "# Feature Scaling\n",
    "\n",
    "- Machine learning algorithms may be called on to combine data with different measurement units. Such as age and salary. (And it should not matter if salary is reported in cents, dollars, or thousands.)\n",
    "- Feature scaling (sometimes called data normalization) is used to standardize the range of features of data. \n",
    "- Since the range of values of data may vary widely, feature scaling becomes a necessary step in data preprocessing."
   ]
  },
  {
   "cell_type": "markdown",
   "metadata": {},
   "source": [
    "### Min-Max Scaling\n",
    "\n",
    "Transforms the data such that the features are within a specific range (e.g. from 0 to 1)\n",
    "\n",
    "<p style=\"text-align: left; font-size:160%; font-weight: normal; font-style: normal;\">\n",
    "$\n",
    "x' = \\frac{x - x_{min}}{x_{max} - x_{min}}\n",
    "$\n",
    "</p>\n",
    "\n",
    "*where* $x'$ *is the re-scaled value of* $x$\n",
    "\n",
    "- Scaling generally means to change the range of the values.\n",
    "\n",
    "- The shape of the distribution doesn’t change, even though the values must change so that the total probability adds up to 1.\n",
    "\n",
    "- It's just like a scale model of a building has the same proportions as the original, just smaller. \n",
    "\n",
    "- That’s why we say it is drawn (or built) to scale. \n",
    "\n",
    "**Run the example below to see what Min-Max Scaling does to your data**"
   ]
  },
  {
   "cell_type": "code",
   "execution_count": null,
   "metadata": {},
   "outputs": [
    {
     "data": {
      "image/png": "[encoded data removed]",
      "text/plain": [
       "<Figure size 432x288 with 2 Axes>"
      ]
     },
     "metadata": {
      "needs_background": "light"
     },
     "output_type": "display_data"
    }
   ],
   "source": [
    "import numpy as np\n",
    "import seaborn as sns\n",
    "import matplotlib.pyplot as plt\n",
    "from sklearn.preprocessing import minmax_scale\n",
    "\n",
    "# set seed for reproducibility\n",
    "np.random.seed(42)\n",
    "\n",
    "# generate 500 data points randomly drawn from an exponential distribution\n",
    "original_data = np.random.exponential(size = 500)\n",
    "\n",
    "# mix-max scale the data between 0 and 1\n",
    "scaled_data = minmax_scale(original_data)\n",
    "\n",
    "# plot both together to compare\n",
    "fig, ax=plt.subplots(1,2)\n",
    "sns.distplot(original_data, ax=ax[0], color='y')\n",
    "ax[0].set_title(\"Original Data\")\n",
    "sns.distplot(scaled_data, ax=ax[1])\n",
    "ax[1].set_title(\"Scaled Data\")\n",
    "plt.show()"
   ]
  },
  {
   "cell_type": "markdown",
   "metadata": {},
   "source": [
    "- Scaling is important in for example OLS models so that you can better compare effect sizes\n",
    "- Scaling is especially important in machine learning algorithms such as support vector machines (SVM) and k-nearest neighbors (KNN) where distances between data points matter. \n",
    "\n",
    "The main advantage of scaling is to avoid attributes in greater numeric ranges dominating those in smaller numeric ranges.\n",
    "\n",
    "Imagine a dataset that contains the average customer rating of 5000 products (1 to 5 stars), their prices (99 dollars to 459 dollars), their margins (0.02 to 0.18), and their anual sales volume (321 to 12599 units). \n",
    "\n",
    "If you wanted to find groups of similar products (e.g., using KNN), then you don't want a feature (i.e., a dimension in Euclidean space) to dominate all other features only because it has very large values. \n",
    "\n",
    "**Discussion Point:** *Can all features be treated the same?*"
   ]
  },
  {
   "cell_type": "markdown",
   "metadata": {},
   "source": [
    "## Normalization\n",
    "\n",
    "The goal of normalization is to change your observations (their values) so that they can be described as a normal distribution.\n",
    "\n",
    "Normal distribution (or Gaussian distribution), also known as the bell curve, is a specific statistical distribution where\n",
    "- roughly an equal number of observations fall above and below the mean\n",
    "- the mean and the median are the same\n",
    "- there are more observations closer to the mean.\n",
    "\n",
    "![Normal Distribution](https://upload.wikimedia.org/wikipedia/commons/2/25/The_Normal_Distribution.svg \"source: Wikipedia\")\n",
    "\n",
    "Normalization is different from min-max scaling in numerator, and from standardization (also known as z-score normalization) in the denominator.\n",
    "\n",
    "<p style=\"text-align: left; font-size:160%; font-weight: normal; font-style: normal;\">\n",
    "$\n",
    "x' = \\frac{x - x_{mean}}{x_{max} - x_{min}}\n",
    "$\n",
    "</p>\n",
    "\n",
    "*where* $x'$ *is the re-scaled value of* $x$\n",
    "\n",
    "For normalization, the maximum value you can get after applying the formula is 1, and the minimum value is 0. So all the values will be between 0 and 1.\n"
   ]
  },
  {
   "cell_type": "markdown",
   "metadata": {},
   "source": [
    "### Note on Colum-wise vs. Row-wise Normalization\n",
    "Today we discuss column-wise normalization.  \n",
    "You can also normalize samples (observations) row-wise.  \n",
    "This is typically done for an algorithm that is based on weighted relationships between data points.  \n",
    "Normalizing inputs to unit norms is a common operation for text classification or clustering.  \n",
    "Three norms or \"distance metrics\" are common: $l_1$, $l_2$ and $max$.  \n",
    "- **$l_1$ norm:** Uses the sum of all parameter values and thus gives equal penalty to all parameters, enforcing sparsity $x_{normalized} = x / sum(X)$\n",
    "- **$l_2$ norm:** Uses the square root of the sum of all the squared values. This creates smoothness and rotational invariance. Some models, like PCA, assume rotational invariance, making the $l_2$ norm more appropriate.\n",
    "$x_{normalized} = x/\\sqrt{\\sum_{x\\in X}(x^2)}$ \n",
    "- **$max$ norm:** Uses the maximum absolute value across all parameter values of a sample $x_{normalized} = x / max(abs(X))$\n",
    "\n"
   ]
  },
  {
   "cell_type": "markdown",
   "metadata": {},
   "source": [
    "A **Box-Cox transformation** is a way to *transform non-normal variables into a normal shape*.  \n",
    "- Normality is an important assumption for many statistical techniques;  \n",
    "- If your data isn't normal, applying a Box-Cox means that you are able to run a broader number of tests.  \n",
    "- Box-Cox trransformations fall in the family of power transformations.  \n",
    "- In statistics, a power transform is a family of functions that are applied to create a monotonic transformation of data using power functions."
   ]
  },
  {
   "cell_type": "code",
   "execution_count": null,
   "metadata": {},
   "outputs": [],
   "source": [
    "# for Box-Cox Transformation\n",
    "from scipy import stats\n",
    "\n",
    "# normalize the exponential data with boxcox\n",
    "normalized_data = stats.boxcox(original_data)\n",
    "\n",
    "# plot both together to compare\n",
    "fig, ax=plt.subplots(1,2)\n",
    "sns.distplot(original_data, ax=ax[0], color='y')\n",
    "ax[0].set_title(\"Original Data\")\n",
    "sns.distplot(normalized_data[0], ax=ax[1])\n",
    "ax[1].set_title(\"Box-Cox Normalized data\")\n",
    "plt.show()"
   ]
  },
  {
   "cell_type": "markdown",
   "metadata": {},
   "source": [
    "## Standardization (also known as z-score normalization)\n",
    "\n",
    "Transforms your data such that the resulting distribution has a mean μ of 0 and a standard deviation σ of 1. \n",
    "\n",
    "\n",
    "<p style=\"text-align: left; font-size:160%; font-weight: normal; font-style: normal;\">\n",
    "$\n",
    "x' = \\frac{x - x_{mean}}{σ}\n",
    "$\n",
    "</p>\n",
    "\n",
    "*where* $x$ is the original feature vector, $x_{mean}$ is the mean of that feature vector, and $σ$ is its standard deviation.\n",
    "\n",
    "More formally in statistics we would write:\n",
    "\n",
    "<p style=\"text-align: left; font-size:160%; font-weight: normal; font-style: normal;\">\n",
    "$\n",
    "z = \\frac{x - {μ}}{σ}\n",
    "$\n",
    "</p>\n",
    "\n",
    "![Standardization](https://kharshit.github.io/img/standardization.gif \"source: DataCamp\")\n",
    "\n",
    "- By subtracting the mean from the distribution, we’re essentially shifting it towards left or right by amount equal to mean.\n",
    "- That is, if we have a distribution of mean 100, and we subtract mean 100 from every value, then we shift the distribution left by 100 without changing its shape. \n",
    "- Thus, the new mean will be 0. \n",
    "- When we divide by standard deviation $σ$, we’re changing the shape of distribution. \n",
    "- The new standard deviation of this standardized distribution is 1 which you can get putting the new mean, $μ=0$ in the z-score equation.\n",
    "\n",
    "Standardization is widely used in machine learning (e.g., support vector machines, logistics regression and neural networks.\n",
    "\n",
    "**Let's try it below!**"
   ]
  },
  {
   "cell_type": "code",
   "execution_count": null,
   "metadata": {},
   "outputs": [],
   "source": [
    "from scipy.stats import zscore, norm\n",
    "\n",
    "# generate random numbers from N(5,2)\n",
    "data_normal = norm.rvs(size=100,loc=8,scale=4)\n",
    "\n",
    "# standardize data\n",
    "standardized_data = zscore(data_normal)\n",
    "\n",
    "# plot both together to compare\n",
    "fig, ax=plt.subplots(1,2)\n",
    "sns.distplot(data_normal, ax=ax[0], color='y')\n",
    "ax[0].set_title(\"Original Data\")\n",
    "sns.distplot(standardized_data, ax=ax[1])\n",
    "ax[1].set_title(\"Standardized Data (z-score)\")\n",
    "plt.show()"
   ]
  },
  {
   "cell_type": "markdown",
   "metadata": {},
   "source": [
    "## Standardization or Min-Max scaling?\n",
    "\n",
    "**There is no obvious answer to this question: it really depends on the application.**\n",
    "\n",
    "- For example, in clustering analyses, standardization may be especially crucial in order to compare similarities between features based on certain distance measures.  \n",
    "\n",
    "\n",
    "- Another prominent example is the Principal Component Analysis, where we usually prefer standardization over Min-Max scaling, since we are interested in the components that maximize the variance (depending on the question and if the PCA computes the components via the correlation matrix instead of the covariance matrix). More about PCA later in the course.  \n",
    "\n",
    "\n",
    "- Does not mean that Min-Max scaling is not useful at all.\n",
    "- A popular application is image processing, where pixel intensities have to be normalized to fit within a certain range (i.e., 0 to 255 for the RGB color range). \n"
   ]
  },
  {
   "cell_type": "markdown",
   "metadata": {},
   "source": [
    "---\n",
    "# Encoding Categorical Data\n",
    "\n",
    "- Probability and Statistics are the foundational pillars of Data Science. \n",
    "- In fact, the underlying principle of machine learning and artificial intelligence is nothing but statistical mathematics and linear algebra. \n",
    "- The internal 'mechanics' of machine learning algorithms are \"number based\". \n",
    "- That is, they do not process text such as names or descriptions directly. \n",
    "- In statistics and econometrics we often encounter catgorical variables. \n",
    "- To process these in our models, we must encode them first so that algorithms can \"understand\" them.\n",
    "\n",
    "*Let's see how that is done by means of a simple example for **\"Dr. D's Amazin' Gas Station\"** that we construct below:*\n"
   ]
  },
  {
   "cell_type": "code",
   "execution_count": null,
   "metadata": {},
   "outputs": [],
   "source": [
    "# Start by manually creating a pandas dataframe for \"Dr. D's Amazin' Gas Station\"\n",
    "import pandas as pd\n",
    "\n",
    "# Method 1: lists of lists\n",
    "data1 = [[1,'BLT Sandwich','food', 2, 4.99], [1,'Coke Light','drink', 2, 1.99], [2, 'Coffee','drink', 1, 2.49], [3, 'Donut','food', 1, 4.19], [3, 'Vanilla Latte','drink', 1, 3.79],[4, 'Regular','gas', 10.1, 2.24], [4, 'Wipers','parts', 1, 16.99], [5, 'Super','gas', 14.3, 2.84], [5, 'Dasani','drink', 2, 1.55], [6, 'Top Wash','service', 1, 14.99]]\n",
    "df1 = pd.DataFrame(data1, columns = ['CustomerID', 'SKU', 'Category', 'Quantity', 'Price'])\n",
    "\n",
    "# Method 2: dictionary of array/lists\n",
    "data2 = {'CustomerID':[1, 1, 2, 3, 3, 4, 4, 5, 5, 6],\n",
    "         'SKU':['BLT Sandwich','Coke Light','Coffee','Donut','Vanilla Latte','Regular','Wipers','Super','Dasani','Top Wash'], \n",
    "         'Category':['food','drink','drink','food','drink','gas','parts','gas','drink','service'], \n",
    "         'Quantity':[2,2,1,1,1,10.1,1,14.3,2,1], \n",
    "         'Price':[4.99,1.99,2.49,4.19,3.79,2.24,16.99,2.84,1.55,14.99]} \n",
    "df2 = pd.DataFrame(data2, columns = ['CustomerID', 'SKU', 'Category', 'Quantity', 'Price'])\n",
    "# Take a look:\n",
    "print(\"Let's look at the two DataFrames side by side:\\n\")\n",
    "pd.concat([df1, df2], axis=1)"
   ]
  },
  {
   "cell_type": "markdown",
   "metadata": {},
   "source": [
    "## Inspect your Data\n",
    "\n",
    "We must first take a closer look at our data to determine whether and which variables are categorical"
   ]
  },
  {
   "cell_type": "code",
   "execution_count": null,
   "metadata": {},
   "outputs": [],
   "source": [
    "print(df2.info())\n",
    "df2.head()"
   ]
  },
  {
   "cell_type": "markdown",
   "metadata": {},
   "source": [
    "The columns with object dtype are ***possibly*** categorical features in the dataset.\n",
    "\n",
    "The reason why you would say that these columns are ***possibly*** categorical features is because:\n",
    "- You shouldn't completely rely on .info() to get the real data type of the values of a feature\n",
    "- Sometimes missing values are represented as strings in a continuous feature can occur, which leads to .info() interpreting the feature (column) as object dtypes.\n",
    "- That's why it's always a good idea to investigate your raw dataset thoroughly and think about cleaning it. \n",
    "\n",
    "However, since we constructed the dataset ourselves, we know it is clean.\n",
    "\n",
    "**Tip:** in Python, it is good practice to typecast categorical features to a category dtype because they make the operations on such columns much faster than the object dtype. You can typecast by using .astype() method on your columns."
   ]
  },
  {
   "cell_type": "code",
   "execution_count": null,
   "metadata": {},
   "outputs": [],
   "source": [
    "df2['SKU'] = df2['SKU'].astype('category')\n",
    "df2['Category'] = df2['Category'].astype('category')                                                              \n",
    "\n",
    "df2.dtypes"
   ]
  },
  {
   "cell_type": "markdown",
   "metadata": {},
   "source": [
    "#### Let's look at the distribution of  the feature \"Category\""
   ]
  },
  {
   "cell_type": "code",
   "execution_count": null,
   "metadata": {},
   "outputs": [],
   "source": [
    "%matplotlib inline\n",
    "import seaborn as sns\n",
    "import matplotlib.pyplot as plt\n",
    "cat_count = df2['Category'].value_counts()\n",
    "sns.set(style=\"darkgrid\")\n",
    "sns.barplot(cat_count.index, cat_count.values, alpha=0.9)\n",
    "plt.title('Frequency Distribution of Categories')\n",
    "plt.ylabel('Number of Occurrences', fontsize=12)\n",
    "plt.xlabel('Category', fontsize=12)\n",
    "plt.show()"
   ]
  },
  {
   "cell_type": "markdown",
   "metadata": {},
   "source": [
    "## Encoding Strategies\n",
    "\n",
    "There are many possibilities to encode categories so that algorithms can proccess them easily. Here are three common ones:\n",
    "\n",
    "- Replacing values\n",
    "- Encoding labels\n",
    "- One-Hot encoding"
   ]
  },
  {
   "cell_type": "markdown",
   "metadata": {},
   "source": [
    "### Replacing Values\n",
    "\n",
    "- Essentially, you replace the categories with the desired numbers. \n",
    "- This can be achieved with the help of the replace() function in pandas. \n",
    "- The idea is that you have the liberty to choose whatever numbers you want to assign to the categories according to the business use case.\n",
    "\n",
    "You will now create a dictionary which contains mapping numbers for each category in the carrier column:"
   ]
  },
  {
   "cell_type": "code",
   "execution_count": null,
   "metadata": {},
   "outputs": [],
   "source": [
    "replace_map = {'Category': {'drink': 1, 'food': 2, 'gas': 3, 'service': 4,'parts': 5}}\n",
    "\n",
    "replace_map"
   ]
  },
  {
   "cell_type": "markdown",
   "metadata": {},
   "source": [
    "**Note** that defining a mapping via a hard coded dictionary is easy when the number of categories is low. \n",
    "\n",
    "You can achieve the same mapping with the help of dictionary comprehensions as shown below.  \n",
    "This will be useful when the categories count is high and you don't want to type out each mapping."
   ]
  },
  {
   "cell_type": "code",
   "execution_count": null,
   "metadata": {},
   "outputs": [],
   "source": [
    "labels = df2['Category'].astype('category').cat.categories.tolist()\n",
    "replace_map_comp = {'Category' : {k: v for k,v in zip(labels,list(range(1,len(labels)+1)))}}\n",
    "\n",
    "print(replace_map_comp)"
   ]
  },
  {
   "cell_type": "markdown",
   "metadata": {},
   "source": [
    "Let's \"backup\" the original dataframe before we proceed"
   ]
  },
  {
   "cell_type": "code",
   "execution_count": null,
   "metadata": {},
   "outputs": [],
   "source": [
    "df2_replace = df2.copy()"
   ]
  },
  {
   "cell_type": "markdown",
   "metadata": {},
   "source": [
    "Now we use the replace() function on the DataFrame by passing the mapping dictionary.\n"
   ]
  },
  {
   "cell_type": "code",
   "execution_count": null,
   "metadata": {},
   "outputs": [],
   "source": [
    "df2_replace.replace(replace_map_comp, inplace=True)\n",
    "\n",
    "print(df2_replace)"
   ]
  },
  {
   "cell_type": "markdown",
   "metadata": {},
   "source": [
    "## Label Encoding\n",
    "\n",
    "Another approach is to encode categorical values with a technique called \"label encoding\".  \n",
    "It allows you to convert each value in a column to a number.  \n",
    "Numerical labels are always between 0 and n_categories-1."
   ]
  },
  {
   "cell_type": "code",
   "execution_count": null,
   "metadata": {},
   "outputs": [],
   "source": [
    "df2_label = df2.copy()\n",
    "df2_label['Category'] = df2_label['Category'].cat.codes\n",
    "print(df2_label.dtypes) \n",
    "df2_label"
   ]
  },
  {
   "cell_type": "markdown",
   "metadata": {},
   "source": [
    "Both **Replacing Values** and **Label Encoding** are straight-forward and ***may*** give you a good performance from your learning algorithm.\n",
    "But it has a possibly severe disadvantage: the numerical values may be \"misinterpreted\" by the algorithm you use.  \n",
    "\n",
    "*Should the category parts (encoded to 3) be given 3x more weight than the category Coffee (encoded to 0)?*\n",
    "\n",
    "To solve this issue there is another popular way to encode the categories via something called **One-Hot Encoding** (which is a way cooler name for \"dummy binary variables\"!)."
   ]
  },
  {
   "cell_type": "markdown",
   "metadata": {},
   "source": [
    "## One-Hot encoding\n",
    "\n",
    "- Is a cooler name for creating dummy variables (if you ask me!)\n",
    "- Convert each category value into a new column and assign a 1 or 0 (True/False) to each value. \n",
    "- Does not imply a weight by its value.\n",
    "\n",
    "- There are many libraries that support one-hot encoding.\n",
    "- A simple one is pandas' .get_dummies() method.\n",
    "\n",
    "**.get_dummies**\n",
    "- Creates dummy/indicator variables (1 or 0). \n",
    "- Has three important parameters (DataFrame, columns to encode, prefix of new colums)."
   ]
  },
  {
   "cell_type": "code",
   "execution_count": null,
   "metadata": {},
   "outputs": [],
   "source": [
    "df2_dummy = df2.copy()\n",
    "df2_dummy = pd.get_dummies(df2_dummy, columns=['Category'], prefix = ['Cat'])\n",
    "\n",
    "df2_dummy"
   ]
  },
  {
   "cell_type": "markdown",
   "metadata": {},
   "source": [
    "## LabelBinarizer and OneHotEncoder in scikit-learn\n",
    "\n",
    "scikit-learn also supports one-hot encoding via LabelBinarizer and OneHotEncoder in its preprocessing module.  \n",
    "When we start running machine learning models in this course we will mostly use scikit-learn.  \n",
    "Below the code for one-hot encoding with scikit-learn."
   ]
  },
  {
   "cell_type": "code",
   "execution_count": null,
   "metadata": {},
   "outputs": [],
   "source": [
    "df2_onehot = df2.copy()\n",
    "\n",
    "from sklearn.preprocessing import LabelBinarizer\n",
    "lb = LabelBinarizer()\n",
    "lb_results = lb.fit_transform(df2_onehot['Category'])\n",
    "lb_results_df = pd.DataFrame(lb_results, columns=lb.classes_)\n",
    "\n",
    "# since we created a separate DataFrame with the Label Binarizer, we must concatenate our df2_onehot DataFrame with it \n",
    "df2_onehot = pd.concat([df2_onehot, lb_results_df], axis=1)\n",
    "\n",
    "\n",
    "df2_onehot"
   ]
  },
  {
   "cell_type": "markdown",
   "metadata": {},
   "source": [
    "---\n",
    "# Next Sessions: \n",
    "### Thurs, 30 Jan 2020\n",
    "We are invited to join either the 2pm or 3:30pm session in McColl 3250 for  \n",
    "Guest Speaker: Matt Cline (Strategic Account Manager at Tableau) on *The Power of Data Visualization for Business*\n",
    "\n",
    "### Friday, 31 Jan 2020\n",
    "Team work on EDA Bakery: be ready to show what you have so far.\n",
    "\n",
    "### Reading:\n",
    "Szafir, D.A., Haroz, S., Gleicher, M. and Franconeri, S., 2016. [Four types of ensemble coding in data visualizations](https://jov.arvojournals.org/article.aspx?articleid=2504104). Journal of Vision, 16(5), pp.11-11.\n",
    "\n",
    "### DataCamp Practice:\n",
    "- Matplotlib\n",
    "- Customizing Plots\n",
    "- Plotting 2D Arrays\n"
   ]
  },
  {
   "cell_type": "markdown",
   "metadata": {},
   "source": [
    "---\n",
    "\n",
    "This notebook is based on various excellent online ressouces. Check them out at:\n",
    "\n",
    "https://towardsdatascience.com/preprocessing-with-sklearn-a-complete-and-comprehensive-guide-670cb98fcfb9  \n",
    "https://www.ritchieng.com/machinelearning-one-hot-encoding/  \n",
    "https://www.datacamp.com/community/tutorials/categorical-data  \n",
    "https://kharshit.github.io/blog/2018/03/23/scaling-vs-normalization  \n",
    "https://www.datacamp.com/community/tutorials/probability-distributions-python  \n",
    "https://www.datacamp.com/courses/statistical-simulation-in-python"
   ]
  }
 ],
 "metadata": {
  "kernelspec": {
   "display_name": "Python 3.6",
   "language": "python",
   "name": "python3"
  },
  "language_info": {
   "codemirror_mode": {
    "name": "ipython",
    "version": 3
   },
   "file_extension": ".py",
   "mimetype": "text/x-python",
   "name": "python",
   "nbconvert_exporter": "python",
   "pygments_lexer": "ipython3",
   "version": "3.6.9"
  }
 },
 "nbformat": 4,
 "nbformat_minor": 1
}
