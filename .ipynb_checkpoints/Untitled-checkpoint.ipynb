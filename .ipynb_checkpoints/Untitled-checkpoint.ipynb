{
 "cells": [
  {
   "cell_type": "code",
   "execution_count": 1,
   "metadata": {},
   "outputs": [],
   "source": [
    "import pandas as pd\n",
    "import numpy as np"
   ]
  },
  {
   "cell_type": "markdown",
   "metadata": {},
   "source": [
    "The data wrangling for this portion of the project was done on Alteryx.  The Alteryx workflow was then exported as a csv file that used Tableau to visualize the data. The data wrangling portion of this project involved cleaning the dataset by removing the \"NONE\" items, handling missing data, formating the date and time, and aggregating information for daily measurements.  I also combined the original dataset with aggregated weather data (including data on rainfall), price/cost/category of items data, and holiday data. The final cleaned, completed, and aggregated dataset is below. We had a few goals in mind:\n",
    "- Determine purchasing patterns that correlate with weather changes\n",
    "- Use transaction times to determine how the store should be staffed throughout the day\n",
    "- Determine if holidays had any significant effect on customer turn-out\n",
    "- Estimate the University of Edinburgh schedule's affect on the coffee shop\n",
    "- Map most profitable times\n",
    "- Categorize menu items and explore categorie proportions\n",
    "\n",
    "The Alteryx and Tableau files are in the zipped folder."
   ]
  },
  {
   "cell_type": "code",
   "execution_count": 3,
   "metadata": {},
   "outputs": [
    {
     "name": "stdout",
     "output_type": "stream",
     "text": [
      "         Date     Time  Transaction    Item  Month_num Month Day_of_week  \\\n",
      "0  2017-01-01  1:21:05         4090   Bread          1   Jan      Sunday   \n",
      "1  2016-11-01  7:51:20          178  Coffee         11   Nov     Tuesday   \n",
      "2  2016-11-01  7:51:20          178  Pastry         11   Nov     Tuesday   \n",
      "3  2016-11-03  7:46:50          340   Bread         11   Nov    Thursday   \n",
      "4  2016-11-03  7:46:50          340  Coffee         11   Nov    Thursday   \n",
      "\n",
      "   Days_open_per_month Week_Category  Price         ...              Hour  \\\n",
      "0                   30       Weekend   7.50         ...          01:00:00   \n",
      "1                   30       Weekday   2.25         ...          07:00:00   \n",
      "2                   30       Weekday   3.55         ...          07:00:00   \n",
      "3                   30       Weekday   7.50         ...          07:00:00   \n",
      "4                   30       Weekday   2.25         ...          07:00:00   \n",
      "\n",
      "     Year  dayofyear Avg_Hail Avg_Rain Avg_Rintensity_Avg  Max_Rain  Min_Rain  \\\n",
      "0  2017.0        1.0      NaN   241.58                0.0    241.58    241.58   \n",
      "1  2016.0      306.0      0.0    66.08                0.0     66.08     66.08   \n",
      "2  2016.0      306.0      0.0    66.08                0.0     66.08     66.08   \n",
      "3  2016.0      308.0      0.0    66.08                0.0     66.08     66.08   \n",
      "4  2016.0      308.0      0.0    66.08                0.0     66.08     66.08   \n",
      "\n",
      "   Max_Rintensity_Avg  Min_Rintensity_Avg  \n",
      "0                 0.0                 0.0  \n",
      "1                 0.0                 0.0  \n",
      "2                 0.0                 0.0  \n",
      "3                 0.0                 0.0  \n",
      "4                 0.0                 0.0  \n",
      "\n",
      "[5 rows x 25 columns]\n"
     ]
    }
   ],
   "source": [
    "#Final Alteryx Output\n",
    "final_data = pd.read_csv(\"data/Bakery_Modified.csv\")\n",
    "print(final_data.head())"
   ]
  },
  {
   "cell_type": "code",
   "execution_count": null,
   "metadata": {},
   "outputs": [],
   "source": []
  }
 ],
 "metadata": {
  "kernelspec": {
   "display_name": "Python 3",
   "language": "python",
   "name": "python3"
  },
  "language_info": {
   "codemirror_mode": {
    "name": "ipython",
    "version": 3
   },
   "file_extension": ".py",
   "mimetype": "text/x-python",
   "name": "python",
   "nbconvert_exporter": "python",
   "pygments_lexer": "ipython3",
   "version": "3.6.5"
  }
 },
 "nbformat": 4,
 "nbformat_minor": 2
}
